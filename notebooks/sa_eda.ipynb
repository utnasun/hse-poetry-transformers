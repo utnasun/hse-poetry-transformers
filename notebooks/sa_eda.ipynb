{
 "cells": [
  {
   "cell_type": "code",
   "execution_count": 2,
   "metadata": {},
   "outputs": [],
   "source": [
    "import pandas as pd\n",
    "import matplotlib.pyplot as plt\n",
    "import seaborn as sns\n",
    "\n",
    "train_data = (\n",
    "    pd.read_json('../poetry_data/poetry_data_train.json')\n",
    "    .assign(data_type='train')\n",
    "    )\n",
    "test_data = (\n",
    "    pd.read_json('../poetry_data/poetry_data_test.json')\n",
    "    .assign(data_type='test')\n",
    "    )\n",
    "\n",
    "data = pd.concat([train_data, test_data])"
   ]
  },
  {
   "cell_type": "code",
   "execution_count": 3,
   "metadata": {},
   "outputs": [
    {
     "data": {
      "text/html": [
       "<div>\n",
       "<style scoped>\n",
       "    .dataframe tbody tr th:only-of-type {\n",
       "        vertical-align: middle;\n",
       "    }\n",
       "\n",
       "    .dataframe tbody tr th {\n",
       "        vertical-align: top;\n",
       "    }\n",
       "\n",
       "    .dataframe thead th {\n",
       "        text-align: right;\n",
       "    }\n",
       "</style>\n",
       "<table border=\"1\" class=\"dataframe\">\n",
       "  <thead>\n",
       "    <tr style=\"text-align: right;\">\n",
       "      <th></th>\n",
       "      <th>url</th>\n",
       "      <th>rating</th>\n",
       "      <th>views</th>\n",
       "      <th>output_text</th>\n",
       "      <th>genre</th>\n",
       "      <th>data_type</th>\n",
       "    </tr>\n",
       "  </thead>\n",
       "  <tbody>\n",
       "    <tr>\n",
       "      <th>0</th>\n",
       "      <td>https://www.chitalnya.ru/work/3180020/</td>\n",
       "      <td>29</td>\n",
       "      <td>33</td>\n",
       "      <td>Люблю ли осень? Ты спроси у ели -\\nОна в колюч...</td>\n",
       "      <td>лирика</td>\n",
       "      <td>train</td>\n",
       "    </tr>\n",
       "    <tr>\n",
       "      <th>1</th>\n",
       "      <td>https://www.chitalnya.ru/work/2496512/</td>\n",
       "      <td>0</td>\n",
       "      <td>29</td>\n",
       "      <td>Подруга - злая похмелюга\\nУжасно вредная порой...</td>\n",
       "      <td>юмор</td>\n",
       "      <td>train</td>\n",
       "    </tr>\n",
       "    <tr>\n",
       "      <th>2</th>\n",
       "      <td>https://www.chitalnya.ru/work/2300891/</td>\n",
       "      <td>73</td>\n",
       "      <td>110</td>\n",
       "      <td>На качелях настроенья\\nМы сегодня улетели\\nВ р...</td>\n",
       "      <td>лирика</td>\n",
       "      <td>train</td>\n",
       "    </tr>\n",
       "    <tr>\n",
       "      <th>3</th>\n",
       "      <td>https://www.chitalnya.ru/work/3109869/</td>\n",
       "      <td>44</td>\n",
       "      <td>67</td>\n",
       "      <td>Знаешь, Света, с тобой мне просто:\\nУ тебя жив...</td>\n",
       "      <td>лирика</td>\n",
       "      <td>train</td>\n",
       "    </tr>\n",
       "    <tr>\n",
       "      <th>4</th>\n",
       "      <td>https://www.chitalnya.ru/work/3382840/</td>\n",
       "      <td>0</td>\n",
       "      <td>12</td>\n",
       "      <td>Клянемся, будем помнить погибших мы всегда,\\nИ...</td>\n",
       "      <td>лирика</td>\n",
       "      <td>train</td>\n",
       "    </tr>\n",
       "  </tbody>\n",
       "</table>\n",
       "</div>"
      ],
      "text/plain": [
       "                                      url  rating  views  \\\n",
       "0  https://www.chitalnya.ru/work/3180020/      29     33   \n",
       "1  https://www.chitalnya.ru/work/2496512/       0     29   \n",
       "2  https://www.chitalnya.ru/work/2300891/      73    110   \n",
       "3  https://www.chitalnya.ru/work/3109869/      44     67   \n",
       "4  https://www.chitalnya.ru/work/3382840/       0     12   \n",
       "\n",
       "                                         output_text   genre data_type  \n",
       "0  Люблю ли осень? Ты спроси у ели -\\nОна в колюч...  лирика     train  \n",
       "1  Подруга - злая похмелюга\\nУжасно вредная порой...    юмор     train  \n",
       "2  На качелях настроенья\\nМы сегодня улетели\\nВ р...  лирика     train  \n",
       "3  Знаешь, Света, с тобой мне просто:\\nУ тебя жив...  лирика     train  \n",
       "4  Клянемся, будем помнить погибших мы всегда,\\nИ...  лирика     train  "
      ]
     },
     "execution_count": 3,
     "metadata": {},
     "output_type": "execute_result"
    }
   ],
   "source": [
    "data.head()"
   ]
  },
  {
   "cell_type": "markdown",
   "metadata": {},
   "source": [
    "### Доступность данных"
   ]
  },
  {
   "cell_type": "markdown",
   "metadata": {},
   "source": [
    "**Генерация процесса данных.**"
   ]
  },
  {
   "cell_type": "code",
   "execution_count": 4,
   "metadata": {},
   "outputs": [
    {
     "data": {
      "text/html": [
       "<div>\n",
       "<style scoped>\n",
       "    .dataframe tbody tr th:only-of-type {\n",
       "        vertical-align: middle;\n",
       "    }\n",
       "\n",
       "    .dataframe tbody tr th {\n",
       "        vertical-align: top;\n",
       "    }\n",
       "\n",
       "    .dataframe thead th {\n",
       "        text-align: right;\n",
       "    }\n",
       "</style>\n",
       "<table border=\"1\" class=\"dataframe\">\n",
       "  <thead>\n",
       "    <tr style=\"text-align: right;\">\n",
       "      <th></th>\n",
       "      <th>url</th>\n",
       "      <th>rating</th>\n",
       "      <th>views</th>\n",
       "      <th>output_text</th>\n",
       "      <th>genre</th>\n",
       "      <th>data_type</th>\n",
       "    </tr>\n",
       "  </thead>\n",
       "  <tbody>\n",
       "    <tr>\n",
       "      <th>0</th>\n",
       "      <td>https://www.chitalnya.ru/work/3180020/</td>\n",
       "      <td>29</td>\n",
       "      <td>33</td>\n",
       "      <td>Люблю ли осень? Ты спроси у ели -\\nОна в колюч...</td>\n",
       "      <td>лирика</td>\n",
       "      <td>train</td>\n",
       "    </tr>\n",
       "    <tr>\n",
       "      <th>1</th>\n",
       "      <td>https://www.chitalnya.ru/work/2496512/</td>\n",
       "      <td>0</td>\n",
       "      <td>29</td>\n",
       "      <td>Подруга - злая похмелюга\\nУжасно вредная порой...</td>\n",
       "      <td>юмор</td>\n",
       "      <td>train</td>\n",
       "    </tr>\n",
       "    <tr>\n",
       "      <th>2</th>\n",
       "      <td>https://www.chitalnya.ru/work/2300891/</td>\n",
       "      <td>73</td>\n",
       "      <td>110</td>\n",
       "      <td>На качелях настроенья\\nМы сегодня улетели\\nВ р...</td>\n",
       "      <td>лирика</td>\n",
       "      <td>train</td>\n",
       "    </tr>\n",
       "    <tr>\n",
       "      <th>3</th>\n",
       "      <td>https://www.chitalnya.ru/work/3109869/</td>\n",
       "      <td>44</td>\n",
       "      <td>67</td>\n",
       "      <td>Знаешь, Света, с тобой мне просто:\\nУ тебя жив...</td>\n",
       "      <td>лирика</td>\n",
       "      <td>train</td>\n",
       "    </tr>\n",
       "    <tr>\n",
       "      <th>4</th>\n",
       "      <td>https://www.chitalnya.ru/work/3382840/</td>\n",
       "      <td>0</td>\n",
       "      <td>12</td>\n",
       "      <td>Клянемся, будем помнить погибших мы всегда,\\nИ...</td>\n",
       "      <td>лирика</td>\n",
       "      <td>train</td>\n",
       "    </tr>\n",
       "    <tr>\n",
       "      <th>...</th>\n",
       "      <td>...</td>\n",
       "      <td>...</td>\n",
       "      <td>...</td>\n",
       "      <td>...</td>\n",
       "      <td>...</td>\n",
       "      <td>...</td>\n",
       "    </tr>\n",
       "    <tr>\n",
       "      <th>34594</th>\n",
       "      <td>https://www.chitalnya.ru/work/3465939/</td>\n",
       "      <td>7</td>\n",
       "      <td>14</td>\n",
       "      <td>Срок пришёл украсить ель, и\\nТотчас рядом с не...</td>\n",
       "      <td>юмор</td>\n",
       "      <td>test</td>\n",
       "    </tr>\n",
       "    <tr>\n",
       "      <th>34595</th>\n",
       "      <td>https://www.chitalnya.ru/work/2805739/</td>\n",
       "      <td>22</td>\n",
       "      <td>50</td>\n",
       "      <td>Как невесомый сладкий дым\\nВитает в изголовье ...</td>\n",
       "      <td>песни</td>\n",
       "      <td>test</td>\n",
       "    </tr>\n",
       "    <tr>\n",
       "      <th>34596</th>\n",
       "      <td>https://www.chitalnya.ru/work/2404931/</td>\n",
       "      <td>2</td>\n",
       "      <td>47</td>\n",
       "      <td>Незваной гостьей в дом вошла.\\nЗа стол присела...</td>\n",
       "      <td>лирика</td>\n",
       "      <td>test</td>\n",
       "    </tr>\n",
       "    <tr>\n",
       "      <th>34597</th>\n",
       "      <td>https://www.chitalnya.ru/work/2005646/</td>\n",
       "      <td>3</td>\n",
       "      <td>68</td>\n",
       "      <td>И вздох, и стон, и рядом он.\\nРука несмелая.\\n...</td>\n",
       "      <td>лирика</td>\n",
       "      <td>test</td>\n",
       "    </tr>\n",
       "    <tr>\n",
       "      <th>34598</th>\n",
       "      <td>https://www.chitalnya.ru/work/886981/</td>\n",
       "      <td>0</td>\n",
       "      <td>314</td>\n",
       "      <td>В объятиях твоих… Спокойно и надёжно\\nНе тесно...</td>\n",
       "      <td>Новая экспериментальная поэзия</td>\n",
       "      <td>test</td>\n",
       "    </tr>\n",
       "  </tbody>\n",
       "</table>\n",
       "<p>172995 rows × 6 columns</p>\n",
       "</div>"
      ],
      "text/plain": [
       "                                          url  rating  views  \\\n",
       "0      https://www.chitalnya.ru/work/3180020/      29     33   \n",
       "1      https://www.chitalnya.ru/work/2496512/       0     29   \n",
       "2      https://www.chitalnya.ru/work/2300891/      73    110   \n",
       "3      https://www.chitalnya.ru/work/3109869/      44     67   \n",
       "4      https://www.chitalnya.ru/work/3382840/       0     12   \n",
       "...                                       ...     ...    ...   \n",
       "34594  https://www.chitalnya.ru/work/3465939/       7     14   \n",
       "34595  https://www.chitalnya.ru/work/2805739/      22     50   \n",
       "34596  https://www.chitalnya.ru/work/2404931/       2     47   \n",
       "34597  https://www.chitalnya.ru/work/2005646/       3     68   \n",
       "34598   https://www.chitalnya.ru/work/886981/       0    314   \n",
       "\n",
       "                                             output_text  \\\n",
       "0      Люблю ли осень? Ты спроси у ели -\\nОна в колюч...   \n",
       "1      Подруга - злая похмелюга\\nУжасно вредная порой...   \n",
       "2      На качелях настроенья\\nМы сегодня улетели\\nВ р...   \n",
       "3      Знаешь, Света, с тобой мне просто:\\nУ тебя жив...   \n",
       "4      Клянемся, будем помнить погибших мы всегда,\\nИ...   \n",
       "...                                                  ...   \n",
       "34594  Срок пришёл украсить ель, и\\nТотчас рядом с не...   \n",
       "34595  Как невесомый сладкий дым\\nВитает в изголовье ...   \n",
       "34596  Незваной гостьей в дом вошла.\\nЗа стол присела...   \n",
       "34597  И вздох, и стон, и рядом он.\\nРука несмелая.\\n...   \n",
       "34598  В объятиях твоих… Спокойно и надёжно\\nНе тесно...   \n",
       "\n",
       "                                genre data_type  \n",
       "0                              лирика     train  \n",
       "1                                юмор     train  \n",
       "2                              лирика     train  \n",
       "3                              лирика     train  \n",
       "4                              лирика     train  \n",
       "...                               ...       ...  \n",
       "34594                            юмор      test  \n",
       "34595                           песни      test  \n",
       "34596                          лирика      test  \n",
       "34597                          лирика      test  \n",
       "34598  Новая экспериментальная поэзия      test  \n",
       "\n",
       "[172995 rows x 6 columns]"
      ]
     },
     "execution_count": 4,
     "metadata": {},
     "output_type": "execute_result"
    }
   ],
   "source": [
    "(\n",
    "    data\n",
    ")"
   ]
  },
  {
   "cell_type": "code",
   "execution_count": 6,
   "metadata": {},
   "outputs": [
    {
     "data": {
      "text/plain": [
       "url            object\n",
       "rating          int64\n",
       "views           int64\n",
       "output_text    object\n",
       "genre          object\n",
       "data_type      object\n",
       "dtype: object"
      ]
     },
     "execution_count": 6,
     "metadata": {},
     "output_type": "execute_result"
    }
   ],
   "source": [
    "(\n",
    "    data\n",
    "    .dtypes\n",
    ")"
   ]
  },
  {
   "cell_type": "code",
   "execution_count": 7,
   "metadata": {},
   "outputs": [
    {
     "data": {
      "text/html": [
       "<div>\n",
       "<style scoped>\n",
       "    .dataframe tbody tr th:only-of-type {\n",
       "        vertical-align: middle;\n",
       "    }\n",
       "\n",
       "    .dataframe tbody tr th {\n",
       "        vertical-align: top;\n",
       "    }\n",
       "\n",
       "    .dataframe thead th {\n",
       "        text-align: right;\n",
       "    }\n",
       "</style>\n",
       "<table border=\"1\" class=\"dataframe\">\n",
       "  <thead>\n",
       "    <tr style=\"text-align: right;\">\n",
       "      <th></th>\n",
       "      <th>num_samples</th>\n",
       "    </tr>\n",
       "    <tr>\n",
       "      <th>data_type</th>\n",
       "      <th></th>\n",
       "    </tr>\n",
       "  </thead>\n",
       "  <tbody>\n",
       "    <tr>\n",
       "      <th>test</th>\n",
       "      <td>34599</td>\n",
       "    </tr>\n",
       "    <tr>\n",
       "      <th>train</th>\n",
       "      <td>138396</td>\n",
       "    </tr>\n",
       "  </tbody>\n",
       "</table>\n",
       "</div>"
      ],
      "text/plain": [
       "           num_samples\n",
       "data_type             \n",
       "test             34599\n",
       "train           138396"
      ]
     },
     "execution_count": 7,
     "metadata": {},
     "output_type": "execute_result"
    }
   ],
   "source": [
    "(\n",
    "    data\n",
    "    .groupby('data_type')\n",
    "    .size()\n",
    "    .to_frame('num_samples')\n",
    ")"
   ]
  },
  {
   "cell_type": "markdown",
   "metadata": {},
   "source": [
    "Количество стихов."
   ]
  },
  {
   "cell_type": "code",
   "execution_count": 9,
   "metadata": {},
   "outputs": [
    {
     "data": {
      "text/plain": [
       "data_type\n",
       "test      34599\n",
       "train    138396\n",
       "dtype: int64"
      ]
     },
     "execution_count": 9,
     "metadata": {},
     "output_type": "execute_result"
    }
   ],
   "source": [
    "(\n",
    "    data\n",
    "    .groupby('data_type')\n",
    "    .size()\n",
    ")"
   ]
  },
  {
   "cell_type": "code",
   "execution_count": 28,
   "metadata": {},
   "outputs": [
    {
     "data": {
      "text/plain": [
       "172995"
      ]
     },
     "execution_count": 28,
     "metadata": {},
     "output_type": "execute_result"
    }
   ],
   "source": [
    "(\n",
    "    data\n",
    "    .shape[0]\n",
    ")"
   ]
  },
  {
   "cell_type": "code",
   "execution_count": 32,
   "metadata": {},
   "outputs": [
    {
     "data": {
      "text/plain": [
       "genre\n",
       "лирика                  91637\n",
       "юмор                    36657\n",
       "песни                   12968\n",
       "эротика                  4448\n",
       "Поэтические переводы     3865\n",
       "акростихи                3014\n",
       "стихи для детей          2834\n",
       "басни                    2486\n",
       "Поэмы и циклы стихов     2295\n",
       "частушки                 2037\n",
       "dtype: int64"
      ]
     },
     "execution_count": 32,
     "metadata": {},
     "output_type": "execute_result"
    }
   ],
   "source": [
    "data.groupby('genre').size().sort_values(ascending=False)[:10]"
   ]
  },
  {
   "cell_type": "code",
   "execution_count": 37,
   "metadata": {},
   "outputs": [
    {
     "data": {
      "text/plain": [
       "genre\n",
       "лирика                  52.97\n",
       "юмор                    21.19\n",
       "песни                    7.50\n",
       "эротика                  2.57\n",
       "Поэтические переводы     2.23\n",
       "акростихи                1.74\n",
       "стихи для детей          1.64\n",
       "басни                    1.44\n",
       "Поэмы и циклы стихов     1.33\n",
       "частушки                 1.18\n",
       "Name: proportion, dtype: float64"
      ]
     },
     "execution_count": 37,
     "metadata": {},
     "output_type": "execute_result"
    }
   ],
   "source": [
    "((data['genre'].value_counts(normalize=True).sort_values(ascending=False)[:10]) * 100).round(2)"
   ]
  }
 ],
 "metadata": {
  "kernelspec": {
   "display_name": ".venv",
   "language": "python",
   "name": "python3"
  },
  "language_info": {
   "codemirror_mode": {
    "name": "ipython",
    "version": 3
   },
   "file_extension": ".py",
   "mimetype": "text/x-python",
   "name": "python",
   "nbconvert_exporter": "python",
   "pygments_lexer": "ipython3",
   "version": "3.10.13"
  }
 },
 "nbformat": 4,
 "nbformat_minor": 2
}
